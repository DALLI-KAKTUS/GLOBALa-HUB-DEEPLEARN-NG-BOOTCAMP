{
  "nbformat": 4,
  "nbformat_minor": 0,
  "metadata": {
    "colab": {
      "provenance": [],
      "collapsed_sections": [],
      "authorship_tag": "ABX9TyPS4t+kPdbCWzzuh5MHqWpl",
      "include_colab_link": true
    },
    "kernelspec": {
      "name": "python3",
      "display_name": "Python 3"
    },
    "language_info": {
      "name": "python"
    }
  },
  "cells": [
    {
      "cell_type": "markdown",
      "metadata": {
        "id": "view-in-github",
        "colab_type": "text"
      },
      "source": [
        "<a href=\"https://colab.research.google.com/github/Doga0/GLOBALa-HUB-DEEPLEARN-NG-BOOTCAMP/blob/main/Untitled2.ipynb\" target=\"_parent\"><img src=\"https://colab.research.google.com/assets/colab-badge.svg\" alt=\"Open In Colab\"/></a>"
      ]
    },
    {
      "cell_type": "code",
      "execution_count": null,
      "metadata": {
        "id": "ohEkz3dWzNQs"
      },
      "outputs": [],
      "source": [
        "from google.colab import drive\n",
        "\n",
        "drive.mount(\"/content/drive\")"
      ]
    },
    {
      "cell_type": "code",
      "source": [
        "import os,sys\n",
        "from time import sleep\n",
        "import cv2\n",
        "import numpy as np\n",
        "from sklearn.model_selection import train_test_split\n",
        "from sklearn.preprocessing import LabelEncoder, minmax_scale\n",
        "\n",
        "def main():\n",
        "    main_list = []\n",
        "    for folder_name in range(10):\n",
        "        sub_folder_path      = r\"/content/drive/MyDrive/spectrograms/\"+str(folder_name)\n",
        "        for png_files in os.listdir(sub_folder_path):\n",
        "            png                = cv2.imread(os.path.join(sub_folder_path,png_files))\n",
        "            gray_png           = cv2.cvtColor(png,cv2.COLOR_BGR2GRAY) \n",
        "            gray_png_Resize    = cv2.resize(gray_png,(256,256))\n",
        "            np_gray_png_Resize = np.asarray(gray_png_Resize).astype(np.float32)\n",
        "            normalize_png      = np_gray_png_Resize/255.0\n",
        "\n",
        "\n",
        "            save_path = r\"/content/drive/MyDrive/spects2\"+ str(folder_name)+\"/\"\n",
        "            cv2.imwrite(os.path.join(save_path,png_files),gray_png_Resize)\n",
        "            cv2.waitKey(0)\n",
        "\n",
        "            img_tag           = png_files.split(('-')[0])[1]\n",
        "            img_tag           = int(img_tag)\n",
        "\n",
        "            main_list.append([normalize_png,img_tag])\n",
        "\n",
        "\n",
        "\n",
        "\n",
        "main()"
      ],
      "metadata": {
        "id": "vRBtDt2EzSY2"
      },
      "execution_count": null,
      "outputs": []
    }
  ]
}
